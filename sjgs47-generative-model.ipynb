version https://git-lfs.github.com/spec/v1
oid sha256:4afc0a3e7412f76332ab3a0b00bf4f918543d6d6c47d793c52e503541c0e6c70
size 75699249
